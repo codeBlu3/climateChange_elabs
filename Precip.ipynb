{
 "cells": [
  {
   "cell_type": "code",
   "execution_count": 5,
   "metadata": {
    "ExecuteTime": {
     "end_time": "2020-10-17T14:07:29.343556Z",
     "start_time": "2020-10-17T14:07:29.341168Z"
    }
   },
   "outputs": [],
   "source": [
    "from bs4 import BeautifulSoup\n",
    "import requests\n",
    "import selenium\n",
    "import random\n",
    "from time import sleep\n",
    "import pandas as pd"
   ]
  },
  {
   "cell_type": "code",
   "execution_count": 6,
   "metadata": {
    "ExecuteTime": {
     "end_time": "2020-10-17T14:08:40.067315Z",
     "start_time": "2020-10-17T14:08:40.064084Z"
    }
   },
   "outputs": [],
   "source": [
    "# logging is important\n",
    "logger = logging.getLogger()\n",
    "dstamp = datetime.now().strftime('%m_%d')\n",
    "fhandler = logging.FileHandler(filename= dstamp + 'session.log', mode='a')\n",
    "formatter = logging.Formatter('%(asctime)s - %(name)s - %(levelname)s - %(message)s')\n",
    "fhandler.setFormatter(formatter)\n",
    "logger.addHandler(fhandler)\n",
    "logger.setLevel(logging.DEBUG)\n"
   ]
  },
  {
   "cell_type": "markdown",
   "metadata": {},
   "source": [
    "# Constants"
   ]
  },
  {
   "cell_type": "code",
   "execution_count": 9,
   "metadata": {
    "ExecuteTime": {
     "end_time": "2020-10-17T14:08:46.082191Z",
     "start_time": "2020-10-17T14:08:46.080007Z"
    }
   },
   "outputs": [],
   "source": [
    "headers = {'User-Agent': 'Mozilla/5.0 (X11; Linux x86_64; rv:73.0) Gecko/20100101 Firefox/73.0'} "
   ]
  },
  {
   "cell_type": "code",
   "execution_count": 10,
   "metadata": {
    "ExecuteTime": {
     "end_time": "2020-10-17T14:08:46.139260Z",
     "start_time": "2020-10-17T14:08:46.101138Z"
    }
   },
   "outputs": [],
   "source": [
    "baseurl =  'https://data.gov.ph/sites/default/files/'"
   ]
  },
  {
   "cell_type": "code",
   "execution_count": 14,
   "metadata": {
    "ExecuteTime": {
     "end_time": "2020-10-17T14:13:59.779523Z",
     "start_time": "2020-10-17T14:13:59.776928Z"
    }
   },
   "outputs": [],
   "source": [
    "def urlToBs(url, headers):\n",
    "    sleep(random.uniform(0,0.5))\n",
    "    pg = requests.get(url, headers)\n",
    "    sleep(1)\n",
    "    bs = BeautifulSoup(pg.content, 'html.parser')\n",
    "    return bs"
   ]
  },
  {
   "cell_type": "code",
   "execution_count": 31,
   "metadata": {
    "ExecuteTime": {
     "end_time": "2020-10-17T14:16:21.441260Z",
     "start_time": "2020-10-17T14:16:21.438943Z"
    }
   },
   "outputs": [],
   "source": [
    "def sp_to_lturl(bsPage):\n",
    "    return [a['href'] for a in bsPage.find_all(\"a\", {'class':\"btn btn-primary data-link\"})] "
   ]
  },
  {
   "cell_type": "code",
   "execution_count": 32,
   "metadata": {
    "ExecuteTime": {
     "end_time": "2020-10-17T14:16:21.480136Z",
     "start_time": "2020-10-17T14:16:21.477379Z"
    }
   },
   "outputs": [],
   "source": [
    "purl =  'https://data.gov.ph/?q=dataset/climatological-normal-values'"
   ]
  },
  {
   "cell_type": "code",
   "execution_count": 21,
   "metadata": {
    "ExecuteTime": {
     "end_time": "2020-10-17T14:14:46.236420Z",
     "start_time": "2020-10-17T14:14:43.908250Z"
    }
   },
   "outputs": [],
   "source": [
    "bsPage = urlToBs(purl, headers)"
   ]
  },
  {
   "cell_type": "code",
   "execution_count": 33,
   "metadata": {
    "ExecuteTime": {
     "end_time": "2020-10-17T14:16:27.461787Z",
     "start_time": "2020-10-17T14:16:27.454761Z"
    }
   },
   "outputs": [],
   "source": [
    "hturllt = sp_to_lturl(bsPage) "
   ]
  },
  {
   "cell_type": "raw",
   "metadata": {
    "ExecuteTime": {
     "end_time": "2020-10-17T14:19:44.674523Z",
     "start_time": "2020-10-17T14:19:44.507516Z"
    }
   },
   "source": [
    "!mkdir precipCSV"
   ]
  },
  {
   "cell_type": "code",
   "execution_count": 45,
   "metadata": {
    "ExecuteTime": {
     "end_time": "2020-10-17T14:23:45.574677Z",
     "start_time": "2020-10-17T14:23:45.571684Z"
    }
   },
   "outputs": [],
   "source": [
    "def fileOut(content, fname):\n",
    "    fout = open(fname, 'wb')\n",
    "    fout.write(content)\n",
    "    fout.close()"
   ]
  },
  {
   "cell_type": "code",
   "execution_count": 47,
   "metadata": {
    "ExecuteTime": {
     "end_time": "2020-10-17T14:23:48.792953Z",
     "start_time": "2020-10-17T14:23:48.477221Z"
    }
   },
   "outputs": [],
   "source": [
    "r = requests.get(hturllt[0], allow_redirects=True)"
   ]
  },
  {
   "cell_type": "code",
   "execution_count": 52,
   "metadata": {
    "ExecuteTime": {
     "end_time": "2020-10-17T14:25:22.092257Z",
     "start_time": "2020-10-17T14:25:22.089408Z"
    }
   },
   "outputs": [
    {
     "data": {
      "text/plain": [
       "'pagasanormvalalabatquez1999-2010.csv'"
      ]
     },
     "execution_count": 52,
     "metadata": {},
     "output_type": "execute_result"
    }
   ],
   "source": [
    "hturllt[0].split('/')[-1]"
   ]
  },
  {
   "cell_type": "code",
   "execution_count": 55,
   "metadata": {
    "ExecuteTime": {
     "end_time": "2020-10-17T14:26:43.835045Z",
     "start_time": "2020-10-17T14:26:25.025940Z"
    }
   },
   "outputs": [],
   "source": [
    "for url in hturllt:\n",
    "    r = requests.get(url, allow_redirects=True)\n",
    "    fileOut(r.content, './precipCSV/' + url.split('/')[-1])"
   ]
  },
  {
   "cell_type": "code",
   "execution_count": 79,
   "metadata": {
    "ExecuteTime": {
     "end_time": "2020-10-17T14:33:23.337401Z",
     "start_time": "2020-10-17T14:33:23.334036Z"
    }
   },
   "outputs": [],
   "source": [
    "def readAllCsv(lt, fp):\n",
    "    dtdfImported = {}\n",
    "    for fname in lt:\n",
    "        logging.info(fname)\n",
    "        dtdfImported[fname] = pd.read_csv(fp + fname)\n",
    "        locstr = fname.split('.')[0][13:] \n",
    "        dtdfImported[fname]['location'] = locstr\n",
    "    return dtdfImported"
   ]
  },
  {
   "cell_type": "code",
   "execution_count": 65,
   "metadata": {
    "ExecuteTime": {
     "end_time": "2020-10-17T14:30:14.018126Z",
     "start_time": "2020-10-17T14:30:14.015965Z"
    }
   },
   "outputs": [],
   "source": [
    "ltfname = [url.split('/')[-1] for url in hturllt]"
   ]
  },
  {
   "cell_type": "code",
   "execution_count": 86,
   "metadata": {
    "ExecuteTime": {
     "end_time": "2020-10-17T14:34:33.207281Z",
     "start_time": "2020-10-17T14:34:33.064597Z"
    }
   },
   "outputs": [],
   "source": [
    "dtdfImported =  readAllCsv(ltfname, './precipCSV/')"
   ]
  },
  {
   "cell_type": "code",
   "execution_count": 87,
   "metadata": {
    "ExecuteTime": {
     "end_time": "2020-10-17T14:34:33.211781Z",
     "start_time": "2020-10-17T14:34:33.208617Z"
    },
    "collapsed": true
   },
   "outputs": [
    {
     "data": {
      "text/plain": [
       "13"
      ]
     },
     "execution_count": 87,
     "metadata": {},
     "output_type": "execute_result"
    }
   ],
   "source": [
    "len('pagasanormval')"
   ]
  },
  {
   "cell_type": "code",
   "execution_count": 89,
   "metadata": {
    "ExecuteTime": {
     "end_time": "2020-10-17T14:34:51.931558Z",
     "start_time": "2020-10-17T14:34:51.929452Z"
    }
   },
   "outputs": [],
   "source": [
    "ltdfImported = [df for df in  dtdfImported.values()]"
   ]
  },
  {
   "cell_type": "code",
   "execution_count": 90,
   "metadata": {
    "ExecuteTime": {
     "end_time": "2020-10-17T14:35:02.824218Z",
     "start_time": "2020-10-17T14:35:02.745362Z"
    }
   },
   "outputs": [],
   "source": [
    "dfFinal = pd.concat(ltdfImported)"
   ]
  },
  {
   "cell_type": "code",
   "execution_count": 93,
   "metadata": {
    "ExecuteTime": {
     "end_time": "2020-10-17T14:35:50.256186Z",
     "start_time": "2020-10-17T14:35:50.252611Z"
    }
   },
   "outputs": [
    {
     "data": {
      "text/plain": [
       "(715, 23)"
      ]
     },
     "execution_count": 93,
     "metadata": {},
     "output_type": "execute_result"
    }
   ],
   "source": [
    "dfFinal.shape"
   ]
  },
  {
   "cell_type": "code",
   "execution_count": 94,
   "metadata": {
    "ExecuteTime": {
     "end_time": "2020-10-17T14:35:59.143598Z",
     "start_time": "2020-10-17T14:35:59.140431Z"
    }
   },
   "outputs": [
    {
     "data": {
      "text/plain": [
       "Index(['month', 'rainfall_amount', 'rainfall_number_of_rd', 'temp_max',\n",
       "       'temp_min', 'temp_mean', 'temp_dry_bulb', 'temp_wet_bulb',\n",
       "       'temp_dew_pt', 'vapor_pressure_mbs', 'rel_hum_percent', 'mslp_mbs',\n",
       "       'wind_dir_16pt', 'wind_spd_mps', 'cloud_amount_okta',\n",
       "       'number_of_days_with_tstm', 'number_of_days_with_ltng', 'location',\n",
       "       'rel_hum', 'mslp', 'vapor_pressure', ' ', 'wind_spd'],\n",
       "      dtype='object')"
      ]
     },
     "execution_count": 94,
     "metadata": {},
     "output_type": "execute_result"
    }
   ],
   "source": [
    "dfFinal.columns"
   ]
  },
  {
   "cell_type": "code",
   "execution_count": 95,
   "metadata": {
    "ExecuteTime": {
     "end_time": "2020-10-17T14:38:15.340762Z",
     "start_time": "2020-10-17T14:38:15.337219Z"
    }
   },
   "outputs": [],
   "source": [
    "def pickleOut(obj, fname):\n",
    "    fout =  open(fname, 'wb')\n",
    "    pickle.dump(obj, fout)\n",
    "    fout.close()"
   ]
  },
  {
   "cell_type": "code",
   "execution_count": 96,
   "metadata": {
    "ExecuteTime": {
     "end_time": "2020-10-17T14:38:41.404286Z",
     "start_time": "2020-10-17T14:38:41.401583Z"
    }
   },
   "outputs": [],
   "source": [
    "pickleOut(dfFinal, 'dfprecip.pkl')"
   ]
  }
 ],
 "metadata": {
  "kernelspec": {
   "display_name": "Python 3",
   "language": "python",
   "name": "python3"
  },
  "language_info": {
   "codemirror_mode": {
    "name": "ipython",
    "version": 3
   },
   "file_extension": ".py",
   "mimetype": "text/x-python",
   "name": "python",
   "nbconvert_exporter": "python",
   "pygments_lexer": "ipython3",
   "version": "3.8.2"
  },
  "toc": {
   "base_numbering": 1,
   "nav_menu": {},
   "number_sections": true,
   "sideBar": true,
   "skip_h1_title": false,
   "title_cell": "Table of Contents",
   "title_sidebar": "Contents",
   "toc_cell": false,
   "toc_position": {
    "height": "496.533px",
    "left": "594px",
    "top": "137.8px",
    "width": "274.617px"
   },
   "toc_section_display": true,
   "toc_window_display": true
  }
 },
 "nbformat": 4,
 "nbformat_minor": 4
}
